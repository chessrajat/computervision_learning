{
 "metadata": {
  "language_info": {
   "codemirror_mode": {
    "name": "ipython",
    "version": 3
   },
   "file_extension": ".py",
   "mimetype": "text/x-python",
   "name": "python",
   "nbconvert_exporter": "python",
   "pygments_lexer": "ipython3",
   "version": "3.9.0"
  },
  "orig_nbformat": 2,
  "kernelspec": {
   "name": "pythonjvsc74a57bd0237ab6fdf49c9c8f3a06ab44b501cb68738c1c86eb7bf98b41005ad961e09145",
   "display_name": "Python 3.9.0  ('venv': venv)"
  },
  "metadata": {
   "interpreter": {
    "hash": "237ab6fdf49c9c8f3a06ab44b501cb68738c1c86eb7bf98b41005ad961e09145"
   }
  }
 },
 "nbformat": 4,
 "nbformat_minor": 2,
 "cells": [
  {
   "cell_type": "code",
   "execution_count": 1,
   "metadata": {},
   "outputs": [],
   "source": [
    "# often blurring and smoothing are done with edge detection"
   ]
  },
  {
   "cell_type": "code",
   "execution_count": null,
   "metadata": {},
   "outputs": [],
   "source": []
  }
 ]
}